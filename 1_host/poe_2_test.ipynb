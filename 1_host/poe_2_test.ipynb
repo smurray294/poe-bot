{
 "cells": [
  {
   "cell_type": "code",
   "execution_count": 1,
   "metadata": {},
   "outputs": [],
   "source": [
    "import time\n",
    "import random\n",
    "import sys\n",
    "from ast import literal_eval\n",
    "\n",
    "from utils.gamehelper import Poe2Bot"
   ]
  },
  {
   "cell_type": "code",
   "execution_count": 2,
   "metadata": {},
   "outputs": [],
   "source": [
    "from utils.combat import InfernalistZoomancer"
   ]
  },
  {
   "cell_type": "code",
   "execution_count": 3,
   "metadata": {},
   "outputs": [],
   "source": [
    "notebook_dev = False\n",
    "# readability\n",
    "poe_bot_class = Poe2Bot\n",
    "poe_bot: poe_bot_class"
   ]
  },
  {
   "cell_type": "code",
   "execution_count": 4,
   "metadata": {},
   "outputs": [
    {
     "name": "stdout",
     "output_type": "stream",
     "text": [
      "--f=c:\\Users\\1\\AppData\\Roaming\\jupyter\\runtime\\kernel-v2-4740lHE9UIcWLjQ3.json\n",
      "cannot parse config from cli, using default\\dev one\n",
      "config to run {'REMOTE_IP': '172.23.178.57', 'unique_id': '7d1165934e24534a1ba5', 'build': 'EaBallistasEle', 'password': None, 'max_lvl': 101, 'chromatics_recipe': True, 'force_reset_temp': False}\n"
     ]
    }
   ],
   "source": [
    "default_config = {\n",
    "  \"REMOTE_IP\": '172.23.178.57', # z2\n",
    "  \"unique_id\": \"poe_2_test\",\n",
    "  \"build\": \"EaBallistasEle\",\n",
    "  \"password\": None,\n",
    "  \"max_lvl\": 101,\n",
    "  \"chromatics_recipe\": True,\n",
    "  \"force_reset_temp\": False,\n",
    "}\n",
    "\n",
    "\n",
    "\n",
    "try:\n",
    "  i = sys.argv[1]\n",
    "  print(i)\n",
    "  parsed_config = literal_eval(i)\n",
    "  print(f'successfully parsed cli config')\n",
    "  print(f'parsed_config: {parsed_config}')\n",
    "except:\n",
    "  print(f'cannot parse config from cli, using default\\dev one')\n",
    "  notebook_dev = True\n",
    "  parsed_config = default_config\n",
    "  parsed_config['unique_id'] = poe_bot_class.getDevKey()\n",
    "\n",
    "config = {\n",
    "\n",
    "}\n",
    "\n",
    "for key in default_config.keys():\n",
    "  config[key] = parsed_config.get(key, default_config[key])\n",
    "\n",
    "print(f'config to run {config}')"
   ]
  },
  {
   "cell_type": "code",
   "execution_count": 5,
   "metadata": {},
   "outputs": [
    {
     "name": "stdout",
     "output_type": "stream",
     "text": [
      "running aqueduct using: REMOTE_IP: 172.23.178.57 unique_id: 7d1165934e24534a1ba5 max_lvl: 101 chromatics_recipe: True force_reset_temp: False\n"
     ]
    }
   ],
   "source": [
    "REMOTE_IP = config['REMOTE_IP'] # REMOTE_IP\n",
    "UNIQUE_ID = config['unique_id'] # unique id\n",
    "MAX_LVL = config.get('max_lvl')\n",
    "CHROMATICS_RECIPE = config['chromatics_recipe']\n",
    "BUILD_NAME = config['build'] # build_name\n",
    "password = config['password']\n",
    "force_reset_temp = config['force_reset_temp']\n",
    "print(f'running aqueduct using: REMOTE_IP: {REMOTE_IP} unique_id: {UNIQUE_ID} max_lvl: {MAX_LVL} chromatics_recipe: {CHROMATICS_RECIPE} force_reset_temp: {force_reset_temp}')"
   ]
  },
  {
   "cell_type": "code",
   "execution_count": 6,
   "metadata": {},
   "outputs": [
    {
     "name": "stdout",
     "output_type": "stream",
     "text": [
      "[Controller] establishing connection with ('172.23.178.57', 50007)\n",
      "[temp] loaded from file AfkTempData\n",
      "[temp] loaded from file StashTempData\n",
      "build is not assigned, using any functions may throw errors\n",
      "poe bot, v: 3.25.15 init at 1734503206.5132613\n",
      "[poebot] #refreshAll call at 1734503206.5132613\n"
     ]
    }
   ],
   "source": [
    "poe_bot = Poe2Bot(unique_id = UNIQUE_ID, remote_ip = REMOTE_IP, password=password)\n",
    "poe_bot.refreshAll()\n",
    "# poe_bot.game_data.terrain.getCurrentlyPassableArea()\n",
    "\n"
   ]
  },
  {
   "cell_type": "code",
   "execution_count": 7,
   "metadata": {},
   "outputs": [],
   "source": [
    "from utils.loot_filter import PickableItemLabel\n",
    "\n",
    "ARTS_TO_PICK = [\n",
    "  \"Art/2DItems/Currency/CurrencyModValues.dds\",\n",
    "  \"Art/2DItems/Currency/CurrencyGemQuality.dds\",\n",
    "  \"Art/2DItems/Currency/CurrencyRerollRare.dds\",\n",
    "  \"Art/2DItems/Currency/CurrencyAddModToRare.dds\",\n",
    "  \"Art/2DItems/Currency/CurrencyUpgradeToUnique.dds\",\n",
    "  \"Art/2DItems/Currency/CurrencyUpgradeToUniqueShard.dds\",\n",
    "]\n",
    "\n",
    "# big piles of gold\n",
    "for tier in range(2,17):\n",
    "  ARTS_TO_PICK.append(f\"Art/2DItems/Currency/Ruthless/CoinPileTier{tier}.dds\")\n",
    "# waystones\n",
    "for tier in range(1,17):\n",
    "  ARTS_TO_PICK.append(f\"Art/2DItems/Maps/EndgameMaps/EndgameMap{tier}.dds\")\n",
    "\n",
    "def isItemHasPickableKey(item_label:PickableItemLabel):\n",
    "  if item_label.icon_render in ARTS_TO_PICK:\n",
    "    return True\n",
    "  return False\n",
    "poe_bot.loot_picker.loot_filter.special_rules = [isItemHasPickableKey]"
   ]
  },
  {
   "cell_type": "code",
   "execution_count": 8,
   "metadata": {},
   "outputs": [],
   "source": [
    "# poe_bot.mover.setMoveType('wasd')"
   ]
  },
  {
   "cell_type": "code",
   "execution_count": 9,
   "metadata": {},
   "outputs": [],
   "source": [
    "poe_bot.combat_module.build = InfernalistZoomancer(poe_bot=poe_bot)\n",
    "poe_bot.mover.default_continue_function = poe_bot.combat_module.build.usualRoutine"
   ]
  },
  {
   "cell_type": "code",
   "execution_count": 10,
   "metadata": {},
   "outputs": [],
   "source": [
    "rares_detection_radius = 999\n",
    "\n",
    "def runnerBreakFunction(*args, **kwargs):\n",
    "  if rares_detection_radius != 0:\n",
    "    rares_nearby = list(filter(lambda e: e.distance_to_player < rares_detection_radius, poe_bot.game_data.entities.attackable_entities_rares))\n",
    "    for rare_mob in rares_nearby:\n",
    "      updated_entity = list(filter(lambda e: e.id == rare_mob.id, poe_bot.game_data.entities.attackable_entities_rares))\n",
    "      if len(updated_entity) != 0:\n",
    "        updated_entity = updated_entity[0]\n",
    "        poe_bot.combat_module.killUsualEntity(updated_entity)\n",
    "        return True\n",
    "\n",
    "  loot_collected = poe_bot.loot_picker.collectLoot()\n",
    "  if loot_collected is True:\n",
    "    return loot_collected\n",
    "  return False\n",
    "  "
   ]
  },
  {
   "cell_type": "code",
   "execution_count": 11,
   "metadata": {},
   "outputs": [
    {
     "name": "stdout",
     "output_type": "stream",
     "text": [
      "generating pathing points\n",
      "1734503207.2178338\n",
      "len(discovery_points) 8\n",
      "len(discovery_points) 8 after sorting\n",
      "discovery_points [(550, 623), (445, 749), (349, 611), (497, 465), (691, 710), (448, 920), (313, 1016), (446, 1111)]\n",
      "exploring point (550, 623)\n",
      "#goToPoint point: (550, 623), min_distance: 50, release_mouse_on_end:False, release_mouse_on_start:False\n",
      "randomize_grid_pos_to_go: True, random_val: 1\n",
      "custom_break_function:<function runnerBreakFunction at 0x000001BE2D477F70>, custom_continue_function:None\n",
      "heist_transition: False, step_size: 34possible_transition: False\n",
      "[LootPicker.collectLoot] call at 1734503207.8477266\n",
      "end pos to go 551 623 \n",
      "[Mover] distance_to_target: 99.29753269845129 at 1734503207.940782\n",
      "[LootPicker.collectLoot] call at 1734503207.9417832\n",
      "[Mover] making step to (1089, 345)\n",
      "[Mover] making first step, placing a mouse on (1089, 345) and going \n",
      "[Controller] debug sending action=mouseSetCursorPosSmooth&x=1089&y=345&mtm=-1&msm=1&wtr=1& at 1734503207.986428\n",
      "[Controller] debug recieved response for action=mouseSetCursorPosSmooth&x=1089&y=345&mtm=-1&msm=1&wtr=1& at 1734503207.9914315\n",
      "[Controller] debug sending action=mousePress&x=1089&y=345&button=left at 1734503207.9934309\n",
      "[Controller] debug recieved response for action=mousePress&x=1089&y=345&button=left at 1734503208.1932354\n",
      "[Mover] distance_to_target: 99.29753269845129 at 1734503208.2298636\n",
      "[LootPicker.collectLoot] call at 1734503208.2298636\n",
      "[Mover] making step to (1089, 345)\n",
      "[Controller] debug sending action=mouseSetCursorPosSmooth&x=1089&y=345&mtm=-1&msm=1&wtr=1& at 1734503208.2338786\n",
      "[Controller] debug recieved response for action=mouseSetCursorPosSmooth&x=1089&y=345&mtm=-1&msm=1&wtr=1& at 1734503208.234877\n",
      "[Mover] distance_to_target: 98.4733466477097 at 1734503208.3566859\n",
      "[LootPicker.collectLoot] call at 1734503208.3566859\n",
      "calling usual routine\n",
      "nearby_enemies: []\n",
      "[Mover] making step to (1088, 341)\n",
      "[Controller] debug sending action=mouseSetCursorPosSmooth&x=1088&y=341&mtm=-1&msm=1&wtr=1& at 1734503208.3626854\n",
      "[Controller] debug recieved response for action=mouseSetCursorPosSmooth&x=1088&y=341&mtm=-1&msm=1&wtr=1& at 1734503208.363691\n",
      "[Mover] distance_to_target: 95.44108130150245 at 1734503208.4977286\n",
      "[LootPicker.collectLoot] call at 1734503208.4982376\n",
      "calling usual routine\n",
      "nearby_enemies: []\n",
      "[Mover] making step to (1079, 337)\n",
      "[Controller] debug sending action=mouseSetCursorPosSmooth&x=1079&y=337&mtm=-1&msm=1&wtr=1& at 1734503208.5042465\n",
      "[Controller] debug recieved response for action=mouseSetCursorPosSmooth&x=1079&y=337&mtm=-1&msm=1&wtr=1& at 1734503208.5052497\n",
      "[Mover] distance_to_target: 89.62700485902673 at 1734503208.6385255\n",
      "[LootPicker.collectLoot] call at 1734503208.639524\n",
      "calling usual routine\n",
      "nearby_enemies: []\n",
      "[Mover] making step to (1081, 316)\n",
      "[Controller] debug sending action=mouseSetCursorPosSmooth&x=1081&y=316&mtm=-1&msm=1&wtr=1& at 1734503208.6445289\n",
      "[Controller] debug recieved response for action=mouseSetCursorPosSmooth&x=1081&y=316&mtm=-1&msm=1&wtr=1& at 1734503208.6445289\n",
      "[Mover] distance_to_target: 83.81527307120106 at 1734503208.791129\n",
      "[LootPicker.collectLoot] call at 1734503208.7921267\n",
      "calling usual routine\n",
      "nearby_enemies: []\n",
      "[Mover] making step to (1086, 332)\n",
      "[Controller] debug sending action=mouseSetCursorPosSmooth&x=1086&y=332&mtm=-1&msm=1&wtr=1& at 1734503208.810037\n",
      "[Controller] debug recieved response for action=mouseSetCursorPosSmooth&x=1086&y=332&mtm=-1&msm=1&wtr=1& at 1734503208.810979\n",
      "[Mover] distance_to_target: 80.0 at 1734503208.93283\n",
      "[LootPicker.collectLoot] call at 1734503208.93283\n",
      "calling usual routine\n",
      "nearby_enemies: []\n",
      "[Mover] making step to (1108, 365)\n",
      "[Controller] debug sending action=mouseSetCursorPosSmooth&x=1108&y=365&mtm=-1&msm=1&wtr=1& at 1734503208.9368289\n",
      "[Controller] debug recieved response for action=mouseSetCursorPosSmooth&x=1108&y=365&mtm=-1&msm=1&wtr=1& at 1734503208.9368289\n",
      "[Mover] distance_to_target: 74.81310045707237 at 1734503209.0747786\n",
      "[LootPicker.collectLoot] call at 1734503209.0747786\n",
      "calling usual routine\n",
      "nearby_enemies: []\n",
      "[Mover] making step to (1125, 408)\n",
      "[Controller] debug sending action=mouseSetCursorPosSmooth&x=1125&y=408&mtm=-1&msm=1&wtr=1& at 1734503209.0797815\n",
      "[Controller] debug recieved response for action=mouseSetCursorPosSmooth&x=1125&y=408&mtm=-1&msm=1&wtr=1& at 1734503209.0807788\n",
      "[Mover] distance_to_target: 69.02897942168926 at 1734503209.2101445\n",
      "[LootPicker.collectLoot] call at 1734503209.2111459\n",
      "calling usual routine\n",
      "nearby_enemies: []\n",
      "[Mover] making step to (1132, 413)\n",
      "[Controller] debug sending action=mouseSetCursorPosSmooth&x=1132&y=413&mtm=-1&msm=1&wtr=1& at 1734503209.224778\n",
      "[Controller] debug recieved response for action=mouseSetCursorPosSmooth&x=1132&y=413&mtm=-1&msm=1&wtr=1& at 1734503209.226781\n"
     ]
    },
    {
     "ename": "KeyboardInterrupt",
     "evalue": "",
     "output_type": "error",
     "traceback": [
      "\u001b[1;31m---------------------------------------------------------------------------\u001b[0m",
      "\u001b[1;31mKeyboardInterrupt\u001b[0m                         Traceback (most recent call last)",
      "Cell \u001b[1;32mIn[11], line 35\u001b[0m\n\u001b[0;32m     32\u001b[0m   \u001b[38;5;28;01mcontinue\u001b[39;00m\n\u001b[0;32m     34\u001b[0m \u001b[38;5;66;03m# go to point to make it explored\u001b[39;00m\n\u001b[1;32m---> 35\u001b[0m result \u001b[38;5;241m=\u001b[39m \u001b[43mmover\u001b[49m\u001b[38;5;241;43m.\u001b[39;49m\u001b[43mgoToPoint\u001b[49m\u001b[43m(\u001b[49m\n\u001b[0;32m     36\u001b[0m \u001b[43m  \u001b[49m\u001b[43mpoint\u001b[49m\u001b[38;5;241;43m=\u001b[39;49m\u001b[43mpoint_to_go\u001b[49m\u001b[43m,\u001b[49m\n\u001b[0;32m     37\u001b[0m \u001b[43m  \u001b[49m\u001b[43mmin_distance\u001b[49m\u001b[38;5;241;43m=\u001b[39;49m\u001b[38;5;241;43m50\u001b[39;49m\u001b[43m,\u001b[49m\n\u001b[0;32m     38\u001b[0m \u001b[43m  \u001b[49m\u001b[43mrelease_mouse_on_end\u001b[49m\u001b[38;5;241;43m=\u001b[39;49m\u001b[38;5;28;43;01mFalse\u001b[39;49;00m\u001b[43m,\u001b[49m\n\u001b[0;32m     39\u001b[0m \u001b[43m  \u001b[49m\u001b[43mcustom_break_function\u001b[49m\u001b[38;5;241;43m=\u001b[39;49m\u001b[43mrunnerBreakFunction\u001b[49m\u001b[43m,\u001b[49m\n\u001b[0;32m     40\u001b[0m \u001b[43m  \u001b[49m\u001b[43mstep_size\u001b[49m\u001b[38;5;241;43m=\u001b[39;49m\u001b[43mrandom\u001b[49m\u001b[38;5;241;43m.\u001b[39;49m\u001b[43mrandint\u001b[49m\u001b[43m(\u001b[49m\u001b[38;5;241;43m30\u001b[39;49m\u001b[43m,\u001b[49m\u001b[38;5;241;43m35\u001b[39;49m\u001b[43m)\u001b[49m\n\u001b[0;32m     41\u001b[0m \u001b[43m\u001b[49m\u001b[43m)\u001b[49m\n\u001b[0;32m     42\u001b[0m \u001b[38;5;66;03m# then, it result is True, False or None\u001b[39;00m\n\u001b[0;32m     43\u001b[0m \u001b[38;5;28mprint\u001b[39m(\u001b[38;5;124mf\u001b[39m\u001b[38;5;124m\"\u001b[39m\u001b[38;5;124mmover.goToPoint result \u001b[39m\u001b[38;5;132;01m{\u001b[39;00mresult\u001b[38;5;132;01m}\u001b[39;00m\u001b[38;5;124m\"\u001b[39m)\n",
      "File \u001b[1;32mc:\\p2\\1_host\\utils\\mover.py:345\u001b[0m, in \u001b[0;36mMover.goToPoint\u001b[1;34m(self, point, min_distance, release_mouse_on_end, release_mouse_on_start, randomize_grid_pos_to_go, random_val, custom_break_function, custom_continue_function, heist_transition, step_size, possible_transition, time_limit)\u001b[0m\n\u001b[0;32m    343\u001b[0m poe_bot\u001b[38;5;241m.\u001b[39mlast_action_time \u001b[38;5;241m=\u001b[39m \u001b[38;5;241m0\u001b[39m \u001b[38;5;66;03m# reset action delay\u001b[39;00m\n\u001b[0;32m    344\u001b[0m \u001b[38;5;28;01mwhile\u001b[39;00m arrived \u001b[38;5;129;01mis\u001b[39;00m \u001b[38;5;28;01mFalse\u001b[39;00m:\n\u001b[1;32m--> 345\u001b[0m   \u001b[43mpoe_bot\u001b[49m\u001b[38;5;241;43m.\u001b[39;49m\u001b[43mrefreshInstanceData\u001b[49m\u001b[43m(\u001b[49m\u001b[43m)\u001b[49m\n\u001b[0;32m    346\u001b[0m   \u001b[38;5;66;03m# check if arrived\u001b[39;00m\n\u001b[0;32m    347\u001b[0m   distance_to_target \u001b[38;5;241m=\u001b[39m dist((grid_pos_to_go_y, grid_pos_to_go_x), [poe_bot\u001b[38;5;241m.\u001b[39mgame_data\u001b[38;5;241m.\u001b[39mplayer\u001b[38;5;241m.\u001b[39mgrid_pos\u001b[38;5;241m.\u001b[39my,poe_bot\u001b[38;5;241m.\u001b[39mgame_data\u001b[38;5;241m.\u001b[39mplayer\u001b[38;5;241m.\u001b[39mgrid_pos\u001b[38;5;241m.\u001b[39mx])\n",
      "File \u001b[1;32mc:\\p2\\1_host\\utils\\gamehelper.py:190\u001b[0m, in \u001b[0;36mPoeBot.refreshInstanceData\u001b[1;34m(self, refreshed_data, force, check_if_lag, reset_timer, raise_if_loading)\u001b[0m\n\u001b[0;32m    188\u001b[0m     wait_till_next_action \u001b[38;5;241m=\u001b[39m \u001b[38;5;28mself\u001b[39m\u001b[38;5;241m.\u001b[39mcan_do_action_every \u001b[38;5;241m-\u001b[39m time_passed_since_last_action\n\u001b[0;32m    189\u001b[0m     \u001b[38;5;28;01mif\u001b[39;00m \u001b[38;5;28mself\u001b[39m\u001b[38;5;241m.\u001b[39mdebug \u001b[38;5;129;01mis\u001b[39;00m \u001b[38;5;28;01mTrue\u001b[39;00m:\u001b[38;5;28mprint\u001b[39m(\u001b[38;5;124mf\u001b[39m\u001b[38;5;124m'\u001b[39m\u001b[38;5;124mtoo fast, sleep for \u001b[39m\u001b[38;5;132;01m{\u001b[39;00mwait_till_next_action\u001b[38;5;132;01m}\u001b[39;00m\u001b[38;5;124m'\u001b[39m)\n\u001b[1;32m--> 190\u001b[0m     \u001b[43mtime\u001b[49m\u001b[38;5;241;43m.\u001b[39;49m\u001b[43msleep\u001b[49m\u001b[43m(\u001b[49m\u001b[43mwait_till_next_action\u001b[49m\u001b[43m)\u001b[49m\n\u001b[0;32m    192\u001b[0m \u001b[38;5;28;01mif\u001b[39;00m refreshed_data \u001b[38;5;129;01mis\u001b[39;00m \u001b[38;5;28;01mNone\u001b[39;00m:\n\u001b[0;32m    193\u001b[0m   refreshed_data \u001b[38;5;241m=\u001b[39m \u001b[38;5;28mself\u001b[39m\u001b[38;5;241m.\u001b[39mgetData(\u001b[38;5;124m\"\u001b[39m\u001b[38;5;124mpartial\u001b[39m\u001b[38;5;124m\"\u001b[39m)\n",
      "\u001b[1;31mKeyboardInterrupt\u001b[0m: "
     ]
    }
   ],
   "source": [
    "from utils.pathing import TSP\n",
    "\n",
    "\n",
    "tsp = TSP(poe_bot=poe_bot)\n",
    "# tsp.generatePointsForDiscovery()\n",
    "mover = poe_bot.mover\n",
    "map_complete = False\n",
    "while map_complete is False:\n",
    "  poe_bot.refreshInstanceData()\n",
    "  print(f'generating pathing points')\n",
    "  tsp.generatePointsForDiscovery()\n",
    "  discovery_points = tsp.sortedPointsForDiscovery()\n",
    "  print(f'len(discovery_points) {len(discovery_points)}')\n",
    "  discovery_points = list(filter(lambda p: poe_bot.game_data.terrain.checkIfPointPassable(p[0], p[1]), discovery_points))\n",
    "  print(f'len(discovery_points) {len(discovery_points)} after sorting')\n",
    "  print(f'discovery_points {discovery_points}')\n",
    "  if len(discovery_points) == 0:\n",
    "    print(f'len(discovery_points) == 0 after points generation')\n",
    "    map_complete = True\n",
    "    break\n",
    "  point_to_go = discovery_points.pop(0)\n",
    "  while point_to_go is not None:\n",
    "    need_to_explore = True\n",
    "    if need_to_explore is True:\n",
    "      print(f'exploring point {point_to_go}')\n",
    "    else:\n",
    "      print(f'surrounding around {point_to_go} discovered, skipping')\n",
    "      try:\n",
    "        point_to_go = discovery_points.pop(0)\n",
    "      except:\n",
    "        point_to_go = None\n",
    "      continue\n",
    "\n",
    "    # go to point to make it explored\n",
    "    result = mover.goToPoint(\n",
    "      point=point_to_go,\n",
    "      min_distance=50,\n",
    "      release_mouse_on_end=False,\n",
    "      custom_break_function=runnerBreakFunction,\n",
    "      step_size=random.randint(30,35)\n",
    "    )\n",
    "    # then, it result is True, False or None\n",
    "    print(f\"mover.goToPoint result {result}\")\n",
    "\n",
    "\n",
    "    # if we arrived to discovery point and nothing happened\n",
    "    if result is None:\n",
    "      while True:\n",
    "        if len(discovery_points) == 0:\n",
    "          point_to_go = None\n",
    "          map_complete = True\n",
    "          print(f'len(discovery_points) == 0, breaking')\n",
    "          break\n",
    "\n",
    "        point_to_go = discovery_points.pop(0)\n",
    "        print(f'willing to explore next point {point_to_go}')\n",
    "        need_to_explore = poe_bot.helper_functions.needToExplore(point_to_go=point_to_go)\n",
    "\n",
    "        if need_to_explore is True:\n",
    "          print(f'exploring point {point_to_go}')\n",
    "          break\n",
    "        else:\n",
    "          print(f'surrounding around {point_to_go} discovered, skipping')\n",
    "          continue\n",
    "    \n",
    "    # if explorer_break_function() is True:\n",
    "    #   map_complete = True\n",
    "    #   break\n",
    "\n",
    "    poe_bot.refreshInstanceData()\n",
    "    poe_bot.last_action_time = 0\n",
    "  # if possible_transition to explore, go to it, run discovery again\n"
   ]
  },
  {
   "cell_type": "code",
   "execution_count": 20,
   "metadata": {},
   "outputs": [
    {
     "name": "stdout",
     "output_type": "stream",
     "text": [
      "#clearLocationAroundPoint around point {'X': 1350, 'Y': 1775} ignore_keys: []\n",
      "going to {'X': 1350, 'Y': 1775}\n",
      "#goToPoint point: [1350, 1775], min_distance: 40, release_mouse_on_end:False, release_mouse_on_start:False\n",
      "randomize_grid_pos_to_go: True, random_val: 1\n",
      "custom_break_function:<function alwaysFalseFunction at 0x000001BE5517F8B0>, custom_continue_function:<bound method InfernalistZoomancer.usualRoutine of <utils.combat.InfernalistZoomancer object at 0x000001BE56B9EE50>>\n",
      "heist_transition: False, step_size: 30possible_transition: False\n",
      "end pos to go 1349 1776 \n",
      "useless call of gotopoint arrived = True\n",
      "[Controller] debug sending action=releaseAll at 1734503361.5140533\n",
      "[Controller] debug recieved response for action=releaseAll at 1734503361.5150516\n",
      "[Controller] debug sending action=mouseSetCursorPosSmooth&x=919&y=753&mtm=-1&msm=1 at 1734503361.9629664\n",
      "[Controller] debug recieved response for action=mouseSetCursorPosSmooth&x=919&y=753&mtm=-1&msm=1 at 1734503361.9954422\n",
      "[Controller] debug sending action=mousePress&x=-1&y=-1&button=left at 1734503362.4355862\n",
      "[Controller] debug recieved response for action=mousePress&x=-1&y=-1&button=left at 1734503362.4497638\n",
      "[Controller] debug sending action=mouseRelease&button=left at 1734503362.5758848\n",
      "[Controller] debug recieved response for action=mouseRelease&button=left at 1734503362.5768845\n",
      "#waitForNewPortals 1734503363.0465226\n",
      "checking if portals around\n",
      "checking if portals around\n",
      "checking if portals around\n",
      "checking if portals around\n",
      "checking if portals around\n",
      "checking if portals around\n",
      "checking if portals around\n",
      "checking if portals around\n",
      "there is a portal nearby\n",
      "original_area_raw_name C_G3_2_1\n",
      "portal_to_enter {'ls': [512, 298], 'p': 'Metadata/MiscellaneousObjects/MultiplexPortal', 'r': 'White', 'i': 3826, 'o': 0, 'h': 1, 'ia': 0, 't': 1, 'em': 0, 'b': 1, 'gp': [1350, 1775], 'wp': [14700, 9232, -111], 'l': None, 'rn': 'Ziggurat Encampment', 'et': 'TownPortal', 'distance_to_player': 0.0}\n",
      "getting into portal {'ls': [512, 298], 'p': 'Metadata/MiscellaneousObjects/MultiplexPortal', 'r': 'White', 'i': 3826, 'o': 0, 'h': 1, 'ia': 0, 't': 1, 'em': 0, 'b': 1, 'gp': [1350, 1775], 'wp': [14700, 9232, -111], 'l': None, 'rn': 'Ziggurat Encampment', 'et': 'TownPortal', 'distance_to_player': 0.0}\n",
      "720 355\n",
      "[Controller] debug sending action=mouseSetCursorPosSmooth&x=720&y=355&mtm=-1&msm=1 at 1734503364.582874\n",
      "[Controller] debug recieved response for action=mouseSetCursorPosSmooth&x=720&y=355&mtm=-1&msm=1 at 1734503364.7069519\n",
      "[Controller] debug sending action=mousePress&x=-1&y=-1&button=left at 1734503365.1147294\n",
      "[Controller] debug recieved response for action=mousePress&x=-1&y=-1&button=left at 1734503365.1264381\n",
      "[Controller] debug sending action=mouseRelease&button=left at 1734503365.2696645\n",
      "[Controller] debug recieved response for action=mouseRelease&button=left at 1734503365.2704647\n",
      "clicked on a portal {'ls': [512, 298], 'p': 'Metadata/MiscellaneousObjects/MultiplexPortal', 'r': 'White', 'i': 3826, 'o': 0, 'h': 1, 'ia': 0, 't': 1, 'em': 0, 'b': 1, 'gp': [1350, 1775], 'wp': [14700, 9232, -111], 'l': None, 'rn': 'Ziggurat Encampment', 'et': 'TownPortal', 'distance_to_player': 0.0}\n",
      "portal_to_enter {'ls': [512, 298], 'p': 'Metadata/MiscellaneousObjects/MultiplexPortal', 'r': 'White', 'i': 3826, 'o': 0, 'h': 1, 'ia': 0, 't': 1, 'em': 0, 'b': 1, 'gp': [1350, 1775], 'wp': [14700, 9232, -111], 'l': None, 'rn': 'Ziggurat Encampment', 'et': 'TownPortal', 'distance_to_player': 0.0}\n",
      "getting into portal {'ls': [512, 298], 'p': 'Metadata/MiscellaneousObjects/MultiplexPortal', 'r': 'White', 'i': 3826, 'o': 0, 'h': 1, 'ia': 0, 't': 1, 'em': 0, 'b': 1, 'gp': [1350, 1775], 'wp': [14700, 9232, -111], 'l': None, 'rn': 'Ziggurat Encampment', 'et': 'TownPortal', 'distance_to_player': 0.0}\n",
      "720 355\n",
      "[Controller] debug sending action=mouseSetCursorPosSmooth&x=720&y=355&mtm=-1&msm=1 at 1734503366.2253113\n",
      "[Controller] debug recieved response for action=mouseSetCursorPosSmooth&x=720&y=355&mtm=-1&msm=1 at 1734503366.266279\n",
      "[Controller] debug sending action=mousePress&x=-1&y=-1&button=left at 1734503366.6726854\n",
      "[Controller] debug recieved response for action=mousePress&x=-1&y=-1&button=left at 1734503366.6816895\n",
      "[Controller] debug sending action=mouseRelease&button=left at 1734503366.7961879\n",
      "[Controller] debug recieved response for action=mouseRelease&button=left at 1734503366.797188\n",
      "clicked on a portal {'ls': [512, 298], 'p': 'Metadata/MiscellaneousObjects/MultiplexPortal', 'r': 'White', 'i': 3826, 'o': 0, 'h': 1, 'ia': 0, 't': 1, 'em': 0, 'b': 1, 'gp': [1350, 1775], 'wp': [14700, 9232, -111], 'l': None, 'rn': 'Ziggurat Encampment', 'et': 'TownPortal', 'distance_to_player': 0.0}\n",
      "portal_to_enter {'ls': [512, 298], 'p': 'Metadata/MiscellaneousObjects/MultiplexPortal', 'r': 'White', 'i': 3826, 'o': 0, 'h': 1, 'ia': 0, 't': 1, 'em': 0, 'b': 1, 'gp': [1350, 1775], 'wp': [14700, 9232, -111], 'l': None, 'rn': 'Ziggurat Encampment', 'et': 'TownPortal', 'distance_to_player': 0.0}\n",
      "getting into portal {'ls': [512, 298], 'p': 'Metadata/MiscellaneousObjects/MultiplexPortal', 'r': 'White', 'i': 3826, 'o': 0, 'h': 1, 'ia': 0, 't': 1, 'em': 0, 'b': 1, 'gp': [1350, 1775], 'wp': [14700, 9232, -111], 'l': None, 'rn': 'Ziggurat Encampment', 'et': 'TownPortal', 'distance_to_player': 0.0}\n",
      "720 355\n",
      "[Controller] debug sending action=mouseSetCursorPosSmooth&x=720&y=355&mtm=-1&msm=1 at 1734503368.450546\n",
      "[Controller] debug recieved response for action=mouseSetCursorPosSmooth&x=720&y=355&mtm=-1&msm=1 at 1734503368.479446\n",
      "[Controller] debug sending action=mousePress&x=-1&y=-1&button=left at 1734503368.8819835\n",
      "[Controller] debug recieved response for action=mousePress&x=-1&y=-1&button=left at 1734503368.9149847\n",
      "[Controller] debug sending action=mouseRelease&button=left at 1734503369.009526\n",
      "[Controller] debug recieved response for action=mouseRelease&button=left at 1734503369.0105271\n",
      "clicked on a portal {'ls': [512, 298], 'p': 'Metadata/MiscellaneousObjects/MultiplexPortal', 'r': 'White', 'i': 3826, 'o': 0, 'h': 1, 'ia': 0, 't': 1, 'em': 0, 'b': 1, 'gp': [1350, 1775], 'wp': [14700, 9232, -111], 'l': None, 'rn': 'Ziggurat Encampment', 'et': 'TownPortal', 'distance_to_player': 0.0}\n",
      "portal_to_enter {'ls': [512, 298], 'p': 'Metadata/MiscellaneousObjects/MultiplexPortal', 'r': 'White', 'i': 3826, 'o': 0, 'h': 1, 'ia': 0, 't': 1, 'em': 0, 'b': 1, 'gp': [1350, 1775], 'wp': [14700, 9232, -111], 'l': None, 'rn': 'Ziggurat Encampment', 'et': 'TownPortal', 'distance_to_player': 0.0}\n",
      "getting into portal {'ls': [512, 298], 'p': 'Metadata/MiscellaneousObjects/MultiplexPortal', 'r': 'White', 'i': 3826, 'o': 0, 'h': 1, 'ia': 0, 't': 1, 'em': 0, 'b': 1, 'gp': [1350, 1775], 'wp': [14700, 9232, -111], 'l': None, 'rn': 'Ziggurat Encampment', 'et': 'TownPortal', 'distance_to_player': 0.0}\n",
      "720 355\n",
      "[Controller] debug sending action=mouseSetCursorPosSmooth&x=720&y=355&mtm=-1&msm=1 at 1734503369.9762745\n",
      "[Controller] debug recieved response for action=mouseSetCursorPosSmooth&x=720&y=355&mtm=-1&msm=1 at 1734503370.0214293\n",
      "[Controller] debug sending action=mousePress&x=-1&y=-1&button=left at 1734503370.426201\n",
      "[Controller] debug recieved response for action=mousePress&x=-1&y=-1&button=left at 1734503370.4576826\n",
      "[Controller] debug sending action=mouseRelease&button=left at 1734503370.5665054\n",
      "[Controller] debug recieved response for action=mouseRelease&button=left at 1734503370.5675087\n",
      "clicked on a portal {'ls': [512, 298], 'p': 'Metadata/MiscellaneousObjects/MultiplexPortal', 'r': 'White', 'i': 3826, 'o': 0, 'h': 1, 'ia': 0, 't': 1, 'em': 0, 'b': 1, 'gp': [1350, 1775], 'wp': [14700, 9232, -111], 'l': None, 'rn': 'Ziggurat Encampment', 'et': 'TownPortal', 'distance_to_player': 0.0}\n",
      "portal_to_enter {'ls': [512, 298], 'p': 'Metadata/MiscellaneousObjects/MultiplexPortal', 'r': 'White', 'i': 3826, 'o': 0, 'h': 1, 'ia': 0, 't': 1, 'em': 0, 'b': 1, 'gp': [1350, 1775], 'wp': [14700, 9232, -111], 'l': None, 'rn': 'Ziggurat Encampment', 'et': 'TownPortal', 'distance_to_player': 0.0}\n",
      "getting into portal {'ls': [512, 298], 'p': 'Metadata/MiscellaneousObjects/MultiplexPortal', 'r': 'White', 'i': 3826, 'o': 0, 'h': 1, 'ia': 0, 't': 1, 'em': 0, 'b': 1, 'gp': [1350, 1775], 'wp': [14700, 9232, -111], 'l': None, 'rn': 'Ziggurat Encampment', 'et': 'TownPortal', 'distance_to_player': 0.0}\n",
      "720 355\n",
      "[Controller] debug sending action=mouseSetCursorPosSmooth&x=720&y=355&mtm=-1&msm=1 at 1734503371.9111285\n",
      "[Controller] debug recieved response for action=mouseSetCursorPosSmooth&x=720&y=355&mtm=-1&msm=1 at 1734503371.9403386\n",
      "[Controller] debug sending action=mousePress&x=-1&y=-1&button=left at 1734503372.3458345\n",
      "[Controller] debug recieved response for action=mousePress&x=-1&y=-1&button=left at 1734503372.3652346\n",
      "[Controller] debug sending action=mouseRelease&button=left at 1734503372.5184047\n",
      "[Controller] debug recieved response for action=mouseRelease&button=left at 1734503372.5194037\n",
      "clicked on a portal {'ls': [512, 298], 'p': 'Metadata/MiscellaneousObjects/MultiplexPortal', 'r': 'White', 'i': 3826, 'o': 0, 'h': 1, 'ia': 0, 't': 1, 'em': 0, 'b': 1, 'gp': [1350, 1775], 'wp': [14700, 9232, -111], 'l': None, 'rn': 'Ziggurat Encampment', 'et': 'TownPortal', 'distance_to_player': 0.0}\n",
      "portal_to_enter {'ls': [512, 298], 'p': 'Metadata/MiscellaneousObjects/MultiplexPortal', 'r': 'White', 'i': 3826, 'o': 0, 'h': 1, 'ia': 0, 't': 1, 'em': 0, 'b': 1, 'gp': [1350, 1775], 'wp': [14700, 9232, -111], 'l': None, 'rn': 'Ziggurat Encampment', 'et': 'TownPortal', 'distance_to_player': 0.0}\n",
      "getting into portal {'ls': [512, 298], 'p': 'Metadata/MiscellaneousObjects/MultiplexPortal', 'r': 'White', 'i': 3826, 'o': 0, 'h': 1, 'ia': 0, 't': 1, 'em': 0, 'b': 1, 'gp': [1350, 1775], 'wp': [14700, 9232, -111], 'l': None, 'rn': 'Ziggurat Encampment', 'et': 'TownPortal', 'distance_to_player': 0.0}\n",
      "720 355\n",
      "[Controller] debug sending action=mouseSetCursorPosSmooth&x=720&y=355&mtm=-1&msm=1 at 1734503373.4731953\n",
      "[Controller] debug recieved response for action=mouseSetCursorPosSmooth&x=720&y=355&mtm=-1&msm=1 at 1734503373.504555\n",
      "[Controller] debug sending action=mousePress&x=-1&y=-1&button=left at 1734503373.91017\n",
      "[Controller] debug recieved response for action=mousePress&x=-1&y=-1&button=left at 1734503373.9447167\n",
      "[Controller] debug sending action=mouseRelease&button=left at 1734503374.051023\n",
      "[Controller] debug recieved response for action=mouseRelease&button=left at 1734503374.052025\n",
      "clicked on a portal {'ls': [512, 298], 'p': 'Metadata/MiscellaneousObjects/MultiplexPortal', 'r': 'White', 'i': 3826, 'o': 0, 'h': 1, 'ia': 0, 't': 1, 'em': 0, 'b': 1, 'gp': [1350, 1775], 'wp': [14700, 9232, -111], 'l': None, 'rn': 'Ziggurat Encampment', 'et': 'TownPortal', 'distance_to_player': 0.0}\n",
      "portal doesnt exist anymore, seems like we clicked on it\n"
     ]
    },
    {
     "ename": "Exception",
     "evalue": "portal doesnt exist anymore, seems like we clicked on it",
     "output_type": "error",
     "traceback": [
      "\u001b[1;31m---------------------------------------------------------------------------\u001b[0m",
      "\u001b[1;31mException\u001b[0m                                 Traceback (most recent call last)",
      "Cell \u001b[1;32mIn[20], line 18\u001b[0m\n\u001b[0;32m     16\u001b[0m openPortal()\n\u001b[0;32m     17\u001b[0m poe_bot\u001b[38;5;241m.\u001b[39mhelper_functions\u001b[38;5;241m.\u001b[39mwaitForPortalNearby()\n\u001b[1;32m---> 18\u001b[0m \u001b[43mpoe_bot\u001b[49m\u001b[38;5;241;43m.\u001b[39;49m\u001b[43mhelper_functions\u001b[49m\u001b[38;5;241;43m.\u001b[39;49m\u001b[43mgetToPortal\u001b[49m\u001b[43m(\u001b[49m\u001b[43mcheck_for_map_device\u001b[49m\u001b[38;5;241;43m=\u001b[39;49m\u001b[38;5;28;43;01mFalse\u001b[39;49;00m\u001b[43m,\u001b[49m\u001b[43m \u001b[49m\u001b[43mrefresh_area\u001b[49m\u001b[38;5;241;43m=\u001b[39;49m\u001b[38;5;28;43;01mFalse\u001b[39;49;00m\u001b[43m)\u001b[49m\n\u001b[0;32m     19\u001b[0m killed_smth \u001b[38;5;241m=\u001b[39m poe_bot\u001b[38;5;241m.\u001b[39mcombat_module\u001b[38;5;241m.\u001b[39mclearAreaAroundPoint(poe_bot\u001b[38;5;241m.\u001b[39mgame_data\u001b[38;5;241m.\u001b[39mplayer\u001b[38;5;241m.\u001b[39mgrid_pos\u001b[38;5;241m.\u001b[39mtoList())\n\u001b[0;32m     20\u001b[0m \u001b[38;5;28;01mif\u001b[39;00m killed_smth:\n",
      "File \u001b[1;32mc:\\p2\\1_host\\utils\\helper_functions.py:545\u001b[0m, in \u001b[0;36mHelperFunctions.getToPortal\u001b[1;34m(self, check_for_map_device, refresh_area)\u001b[0m\n\u001b[0;32m    543\u001b[0m   \u001b[38;5;28mprint\u001b[39m(\u001b[38;5;124mf\u001b[39m\u001b[38;5;124m'\u001b[39m\u001b[38;5;124mportal doesnt exist anymore, seems like we clicked on it\u001b[39m\u001b[38;5;124m'\u001b[39m)\n\u001b[0;32m    544\u001b[0m   time\u001b[38;5;241m.\u001b[39msleep(\u001b[38;5;241m2\u001b[39m)\n\u001b[1;32m--> 545\u001b[0m   \u001b[38;5;28;01mraise\u001b[39;00m \u001b[38;5;167;01mException\u001b[39;00m(\u001b[38;5;124m\"\u001b[39m\u001b[38;5;124mportal doesnt exist anymore, seems like we clicked on it\u001b[39m\u001b[38;5;124m\"\u001b[39m)\n\u001b[0;32m    546\u001b[0m \u001b[38;5;28mprint\u001b[39m(\u001b[38;5;124mf\u001b[39m\u001b[38;5;124m'\u001b[39m\u001b[38;5;124mportal_to_enter \u001b[39m\u001b[38;5;132;01m{\u001b[39;00mportal_to_enter\u001b[38;5;132;01m}\u001b[39;00m\u001b[38;5;124m'\u001b[39m)\n\u001b[0;32m    547\u001b[0m \u001b[38;5;28;01mif\u001b[39;00m portal_to_enter\u001b[38;5;241m.\u001b[39mis_targetable \u001b[38;5;129;01mis\u001b[39;00m \u001b[38;5;28;01mFalse\u001b[39;00m:\n",
      "\u001b[1;31mException\u001b[0m: portal doesnt exist anymore, seems like we clicked on it"
     ]
    }
   ],
   "source": [
    "# open portal and enter it\n",
    "def openPortal():\n",
    "  poe_bot.bot_controls.releaseAll()\n",
    "\n",
    "  time.sleep(random.randint(40,80)/100)\n",
    "  pos_x, pos_y = random.randint(709,711), random.randint(694,696)\n",
    "  pos_x, pos_y = poe_bot.convertPosXY(pos_x, pos_y, safe=False)\n",
    "  poe_bot.bot_controls.mouse.setPosSmooth(pos_x, pos_y)\n",
    "  time.sleep(random.randint(40,80)/100)\n",
    "  poe_bot.bot_controls.mouse.click()\n",
    "  time.sleep(random.randint(30,60)/100)\n",
    "\n",
    "while True:\n",
    "  killed_smth = poe_bot.combat_module.clearAreaAroundPoint(poe_bot.game_data.player.grid_pos.toList())\n",
    "  if killed_smth == False:\n",
    "    openPortal()\n",
    "    poe_bot.helper_functions.waitForPortalNearby()\n",
    "    poe_bot.helper_functions.getToPortal(check_for_map_device=False, refresh_area=False)\n",
    "    killed_smth = poe_bot.combat_module.clearAreaAroundPoint(poe_bot.game_data.player.grid_pos.toList())\n",
    "    if killed_smth:\n",
    "      continue\n",
    "    "
   ]
  },
  {
   "cell_type": "code",
   "execution_count": null,
   "metadata": {},
   "outputs": [],
   "source": [
    "raise 404"
   ]
  },
  {
   "cell_type": "code",
   "execution_count": null,
   "metadata": {},
   "outputs": [],
   "source": [
    "\n",
    "\n",
    "# pos_x, pos_y = random.randint(580,640), random.randint(408,409)\n",
    "# pos_x, pos_y = poe_bot.convertPosXY(pos_x, pos_y)\n",
    "# time.sleep(random.randint(20,80)/100)\n",
    "# poe_bot.bot_controls.mouse.setPosSmooth(pos_x, pos_y)\n",
    "# time.sleep(random.randint(20,80)/100)\n",
    "# poe_bot.bot_controls.mouse.click()\n",
    "# time.sleep(random.randint(30,60)/100)"
   ]
  },
  {
   "cell_type": "code",
   "execution_count": 20,
   "metadata": {},
   "outputs": [],
   "source": [
    "poe_bot.refreshInstanceData()"
   ]
  },
  {
   "cell_type": "code",
   "execution_count": null,
   "metadata": {},
   "outputs": [],
   "source": [
    "\n"
   ]
  },
  {
   "cell_type": "code",
   "execution_count": null,
   "metadata": {},
   "outputs": [],
   "source": []
  },
  {
   "cell_type": "code",
   "execution_count": null,
   "metadata": {},
   "outputs": [],
   "source": [
    "beetle_entity = next( (e for e in poe_bot.game_data.entities.attackable_entities_rares if e.render_name == \"The Ninth Treasure of Keth\"), None)\n",
    "if beetle_entity:\n",
    "  poe_bot.combat_module.killTillCorpseOrDisappeared(beetle_entity)\n",
    "else:\n",
    "  print(f'no entity found')"
   ]
  },
  {
   "cell_type": "code",
   "execution_count": null,
   "metadata": {},
   "outputs": [],
   "source": [
    "start_time = time.time()\n",
    "\n",
    "def destroyCorpse(corpse_entity:Entity):\n",
    "  print(f'destroying corpse {corpse_entity.raw}')\n",
    "  while True:\n",
    "    poe_bot.refreshInstanceData()\n",
    "    updated_corpse_entity = next( (e for e in poe_bot.game_data.entities.all_entities if e.id == corpse_entity.id), None)\n",
    "    if updated_corpse_entity:\n",
    "      if updated_corpse_entity.distance_to_player > 25:\n",
    "        poe_bot.mover.goToEntitysPoint(updated_corpse_entity)\n",
    "      else:\n",
    "        if poe_bot.combat_module.build.detonate_dead:\n",
    "          if poe_bot.combat_module.build.detonate_dead.use(updated_entity=updated_corpse_entity, force=True) != False:\n",
    "            continue\n",
    "        if poe_bot.combat_module.build.unearth and poe_bot.combat_module.build.unearth.canUse():\n",
    "          if poe_bot.combat_module.build.unearth.use(updated_entity=updated_corpse_entity) != False:\n",
    "            continue\n",
    "    else:\n",
    "      break\n",
    "beetle_corpse = next( (e for e in poe_bot.game_data.entities.all_entities if e.render_name == \"The Ninth Treasure of Keth\"), None)\n",
    "if beetle_corpse:\n",
    "  destroyCorpse(beetle_corpse)"
   ]
  },
  {
   "cell_type": "code",
   "execution_count": null,
   "metadata": {},
   "outputs": [],
   "source": [
    "entity_to_run_around = None\n",
    "if beetle_corpse:\n",
    "  print(f'running around corpse {beetle_corpse}')\n",
    "  entity_to_run_around = beetle_corpse\n",
    "elif beetle_entity:\n",
    "  print(f'running around entity {beetle_entity}')\n",
    "\n",
    "  entity_to_run_around = beetle_entity\n",
    "\n",
    "if entity_to_run_around:\n",
    "  start_time = time.time()\n",
    "  run_duration_seconds = 5\n",
    "  end_at = start_time + run_duration_seconds\n",
    "  kite_distance = 10\n",
    "  reversed_run = random.choice([True, False])\n",
    "  while time.time() < end_at:\n",
    "    poe_bot.refreshInstanceData()\n",
    "    poe_bot.combat_module.build.auto_flasks.useFlasks()  \n",
    "    print('kiting')\n",
    "    point = poe_bot.game_data.terrain.pointToRunAround(entity_to_run_around.grid_position.x, entity_to_run_around.grid_position.y, kite_distance+random.randint(-1,1), check_if_passable=True, reversed=reversed_run)\n",
    "    poe_bot.mover.move(grid_pos_x = point[0], grid_pos_y = point[1])\n",
    "else:\n",
    "  poe_bot.refreshInstanceData()"
   ]
  },
  {
   "cell_type": "code",
   "execution_count": null,
   "metadata": {},
   "outputs": [],
   "source": [
    "poe_bot.loot_picker.collectLootWhilePresented()"
   ]
  },
  {
   "cell_type": "code",
   "execution_count": null,
   "metadata": {},
   "outputs": [],
   "source": [
    "def respawnAtCheckPoint():\n",
    "  poe_bot.bot_controls.keyboard.tap('DIK_ESCAPE')\n",
    "  time.sleep(random.randint(40,80)/100)\n",
    "  pos_x, pos_y = random.randint(450,550), random.randint(289,290)\n",
    "  pos_x, pos_y = poe_bot.convertPosXY(pos_x, pos_y)\n",
    "  poe_bot.bot_controls.mouse.setPosSmooth(pos_x, pos_y)\n",
    "  time.sleep(random.randint(40,80)/100)\n",
    "  poe_bot.bot_controls.mouse.click()\n",
    "  time.sleep(random.randint(30,60)/100)\n",
    "\n",
    "  pos_x, pos_y = random.randint(580,640), random.randint(408,409)\n",
    "  pos_x, pos_y = poe_bot.convertPosXY(pos_x, pos_y)\n",
    "  time.sleep(random.randint(20,80)/100)\n",
    "  poe_bot.bot_controls.mouse.setPosSmooth(pos_x, pos_y)\n",
    "  time.sleep(random.randint(20,80)/100)\n",
    "  poe_bot.bot_controls.mouse.click()\n",
    "  time.sleep(random.randint(30,60)/100)\n",
    "  return True\n",
    "poe_bot.bot_controls.releaseAll()\n",
    "respawnAtCheckPoint()\n",
    "while True:\n",
    "  poe_bot.refreshInstanceData()\n",
    "  beetle_entity = next( (e for e in poe_bot.game_data.entities.all_entities if e.render_name == \"The Ninth Treasure of Keth\"), None)\n",
    "  if beetle_entity:\n",
    "    break"
   ]
  },
  {
   "cell_type": "code",
   "execution_count": null,
   "metadata": {},
   "outputs": [],
   "source": [
    "raise 404"
   ]
  },
  {
   "cell_type": "code",
   "execution_count": null,
   "metadata": {},
   "outputs": [],
   "source": [
    "\n",
    "poe_bot.refreshInstanceData()\n",
    "poe_bot.loot_picker.collectLoot()"
   ]
  },
  {
   "cell_type": "code",
   "execution_count": 19,
   "metadata": {},
   "outputs": [
    {
     "name": "stdout",
     "output_type": "stream",
     "text": [
      "[poebot] #refreshAll call at 1734503355.5292304\n"
     ]
    }
   ],
   "source": [
    "poe_bot.refreshAll()"
   ]
  },
  {
   "cell_type": "code",
   "execution_count": 13,
   "metadata": {},
   "outputs": [
    {
     "data": {
      "text/plain": [
       "'C_G3_town'"
      ]
     },
     "execution_count": 13,
     "metadata": {},
     "output_type": "execute_result"
    }
   ],
   "source": [
    "poe_bot.area_raw_name"
   ]
  },
  {
   "cell_type": "code",
   "execution_count": 17,
   "metadata": {},
   "outputs": [
    {
     "name": "stdout",
     "output_type": "stream",
     "text": [
      "[Controller] debug sending action=releaseAll at 1734503295.8690438\n",
      "[Controller] debug recieved response for action=releaseAll at 1734503295.871046\n"
     ]
    },
    {
     "ename": "Exception",
     "evalue": "Area changed but refreshInstanceData was called before refreshAll",
     "output_type": "error",
     "traceback": [
      "\u001b[1;31m---------------------------------------------------------------------------\u001b[0m",
      "\u001b[1;31mException\u001b[0m                                 Traceback (most recent call last)",
      "Cell \u001b[1;32mIn[17], line 1\u001b[0m\n\u001b[1;32m----> 1\u001b[0m \u001b[43mpoe_bot\u001b[49m\u001b[38;5;241;43m.\u001b[39;49m\u001b[43mrefreshInstanceData\u001b[49m\u001b[43m(\u001b[49m\u001b[43m)\u001b[49m\n\u001b[0;32m      2\u001b[0m poe_bot\u001b[38;5;241m.\u001b[39marea_raw_name\n",
      "File \u001b[1;32mc:\\p2\\1_host\\utils\\gamehelper.py:209\u001b[0m, in \u001b[0;36mPoeBot.refreshInstanceData\u001b[1;34m(self, refreshed_data, force, check_if_lag, reset_timer, raise_if_loading)\u001b[0m\n\u001b[0;32m    207\u001b[0m \u001b[38;5;28;01mif\u001b[39;00m refreshed_data[\u001b[38;5;124m\"\u001b[39m\u001b[38;5;124marea_raw_name\u001b[39m\u001b[38;5;124m\"\u001b[39m] \u001b[38;5;241m!=\u001b[39m \u001b[38;5;28mself\u001b[39m\u001b[38;5;241m.\u001b[39marea_raw_name:\n\u001b[0;32m    208\u001b[0m   \u001b[38;5;28mself\u001b[39m\u001b[38;5;241m.\u001b[39mbot_controls\u001b[38;5;241m.\u001b[39mreleaseAll()\n\u001b[1;32m--> 209\u001b[0m   \u001b[38;5;28;01mraise\u001b[39;00m \u001b[38;5;167;01mException\u001b[39;00m(\u001b[38;5;124m'\u001b[39m\u001b[38;5;124mArea changed but refreshInstanceData was called before refreshAll\u001b[39m\u001b[38;5;124m'\u001b[39m)\n\u001b[0;32m    210\u001b[0m \u001b[38;5;28mself\u001b[39m\u001b[38;5;241m.\u001b[39marea_raw_name \u001b[38;5;241m=\u001b[39m refreshed_data[\u001b[38;5;124m\"\u001b[39m\u001b[38;5;124marea_raw_name\u001b[39m\u001b[38;5;124m\"\u001b[39m]\n\u001b[0;32m    211\u001b[0m \u001b[38;5;28;01mif\u001b[39;00m raise_if_loading:\n",
      "\u001b[1;31mException\u001b[0m: Area changed but refreshInstanceData was called before refreshAll"
     ]
    }
   ],
   "source": [
    "poe_bot.refreshInstanceData()\n",
    "poe_bot.area_raw_name\n"
   ]
  },
  {
   "cell_type": "code",
   "execution_count": null,
   "metadata": {},
   "outputs": [],
   "source": [
    "raise 404"
   ]
  },
  {
   "cell_type": "code",
   "execution_count": null,
   "metadata": {},
   "outputs": [],
   "source": [
    "poe_bot.refreshAll()"
   ]
  },
  {
   "cell_type": "code",
   "execution_count": null,
   "metadata": {},
   "outputs": [],
   "source": [
    "for e in poe_bot.game_data.entities.all_entities:\n",
    "  print(e.raw)"
   ]
  },
  {
   "cell_type": "code",
   "execution_count": 17,
   "metadata": {},
   "outputs": [],
   "source": [
    "from utils.utils import getAngle"
   ]
  },
  {
   "cell_type": "code",
   "execution_count": null,
   "metadata": {},
   "outputs": [],
   "source": [
    "poe_bot.refreshAll()\n"
   ]
  },
  {
   "cell_type": "code",
   "execution_count": null,
   "metadata": {},
   "outputs": [],
   "source": [
    "import time\n",
    "while True:\n",
    "  time.sleep(0.2)\n",
    "  poe_bot.refreshInstanceData()\n",
    "  player_pos = poe_bot.game_data.player.grid_pos.toList()\n",
    "  p1 = player_pos\n",
    "  p0 = (player_pos[0], player_pos[1]+50)\n",
    "\n",
    "  for e in poe_bot.game_data.entities.all_entities:\n",
    "    if e.id != 11:\n",
    "      continue\n",
    "    print(e.raw)\n",
    "    print(getAngle(p0, p1, (e.grid_position.x, e.grid_position.y), abs_180=True))"
   ]
  },
  {
   "cell_type": "code",
   "execution_count": null,
   "metadata": {},
   "outputs": [],
   "source": []
  },
  {
   "cell_type": "code",
   "execution_count": null,
   "metadata": {},
   "outputs": [],
   "source": [
    "poe_bot.refreshAll()\n",
    "poe_bot.bot_controls.releaseAll()\n",
    "\n",
    "our_pos = [poe_bot.game_data.player.grid_pos.x, poe_bot.game_data.player.grid_pos.y]\n",
    "# entity pos\n",
    "pos_x, pos_y = poe_bot.game_data.player.grid_pos.x, poe_bot.game_data.player.grid_pos.y\n",
    "\n",
    "distance_to_point = 45\n",
    "\n",
    "reversed = True\n",
    "check_if_passable = True"
   ]
  },
  {
   "cell_type": "code",
   "execution_count": null,
   "metadata": {},
   "outputs": [],
   "source": [
    "import time\n",
    "from math import dist\n",
    "\n",
    "while True:\n",
    "  time.sleep(0.2)\n",
    "  poe_bot.refreshInstanceData()\n",
    "\n",
    "  our_pos = [poe_bot.game_data.player.grid_pos.x, poe_bot.game_data.player.grid_pos.y]\n",
    "  points_around = [\n",
    "    [pos_x+distance_to_point,pos_y], # 90\n",
    "    [int(pos_x+distance_to_point*0.7),int(pos_y-distance_to_point*0.7)], # 45\n",
    "    [pos_x,pos_y-distance_to_point], # 0\n",
    "    [int(pos_x-distance_to_point*0.7),int(pos_y-distance_to_point*0.7)], # 315\n",
    "    [pos_x-distance_to_point,pos_y], # 270\n",
    "    [int(pos_x-distance_to_point*0.7),int(pos_y+distance_to_point*0.7)], # 215\n",
    "    [pos_x,pos_y+distance_to_point], # 180\n",
    "    [int(pos_x+distance_to_point*0.7),int(pos_y+distance_to_point*0.7)], # 135\n",
    "  ]\n",
    "  if reversed is True:\n",
    "    points_around.reverse()\n",
    "  distances = list(map(lambda p: dist(our_pos, p),points_around))\n",
    "  nearset_pos_index = distances.index(min(distances))\n",
    "  distances = list(map(lambda p: dist(our_pos, p),points_around))\n",
    "  nearset_pos_index = distances.index(min(distances))\n",
    "  # TODO check if next point is passable\n",
    "  current_pos_index = nearset_pos_index+1\n",
    "  if current_pos_index > len(points_around)-1: current_pos_index -= len(points_around)\n",
    "  point = points_around[current_pos_index]\n",
    "  if check_if_passable is True:\n",
    "    if poe_bot.game_data.terrain.checkIfPointPassable(point[0], point[1], radius=1) is False:\n",
    "      start_index = current_pos_index+1\n",
    "      point_found = False\n",
    "      for i in range(len(points_around)-2):\n",
    "        current_index = start_index + i\n",
    "        if current_index > len(points_around)-1: current_index -= len(points_around)\n",
    "        point = points_around[current_index]\n",
    "        if poe_bot.game_data.terrain.checkIfPointPassable(point[0], point[1], radius=1) is True:\n",
    "          point_found = True\n",
    "          break\n",
    "      if point_found is True:\n",
    "        pass\n",
    "  print(point)\n",
    "  poe_bot.mover.move(point[0], point[1])"
   ]
  }
 ],
 "metadata": {
  "kernelspec": {
   "display_name": "Python 3",
   "language": "python",
   "name": "python3"
  },
  "language_info": {
   "codemirror_mode": {
    "name": "ipython",
    "version": 3
   },
   "file_extension": ".py",
   "mimetype": "text/x-python",
   "name": "python",
   "nbconvert_exporter": "python",
   "pygments_lexer": "ipython3",
   "version": "3.8.10"
  },
  "orig_nbformat": 4,
  "vscode": {
   "interpreter": {
    "hash": "9a77788ff6b86baaa40baa2ee0d4965d2ef3f4c5f9e8f753fc08e7b362f3103b"
   }
  }
 },
 "nbformat": 4,
 "nbformat_minor": 2
}
