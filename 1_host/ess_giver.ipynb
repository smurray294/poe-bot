{
 "cells": [
  {
   "cell_type": "code",
   "execution_count": 1,
   "metadata": {},
   "outputs": [],
   "source": [
    "from typing import List\n",
    "\n",
    "import pickle\n",
    "import os\n",
    "import time\n",
    "from math import dist\n",
    "import random\n",
    "import json\n",
    "import sys\n",
    "from ast import literal_eval\n",
    "import copy\n",
    "import traceback\n",
    "\n",
    "\n",
    "import cv2\n",
    "import numpy as np\n",
    "import matplotlib.pyplot as plt\n",
    "\n",
    "from utils.gamehelper import PoeBot, Entity\n",
    "from utils.controller import VMHostPuppeteer\n",
    "from utils.utils import cropPath, sortByHSV, alwaysFalseFunction, raiseLongSleepException, createLineIterator, createLineIteratorWithValues, getFourPoints, extendLine\n",
    "from utils.helper_functions import openStashTabIndexKeryboard, checkIfInventoryOpened, getFilledInventorySlots, openStash, getToHideout, getToPortal, mapDiscoveredForPercent, lvlUpGem, openTradeWithLilly\n",
    "from utils.constants import FRIENDLY_ENTITIES_PATH_KEYWORDS, MAP_DEVICE_SLOTS, MAP_DEVICE_ACTIVATE_BUTTON, FLASK_NAME_TO_BUFF, BOSS_RENDER_NAMES\n",
    "from utils.temps import MapsTempData\n",
    "from utils.pathing import TSP\n",
    "from utils.mover import Mover\n"
   ]
  },
  {
   "cell_type": "code",
   "execution_count": 2,
   "metadata": {},
   "outputs": [],
   "source": [
    "time_now = 0\n",
    "notebook_dev = False\n",
    "# readability\n",
    "poe_bot: PoeBot\n",
    "bot_controls:VMHostPuppeteer\n",
    "mover: Mover"
   ]
  },
  {
   "cell_type": "code",
   "execution_count": 3,
   "metadata": {},
   "outputs": [
    {
     "name": "stdout",
     "output_type": "stream",
     "text": [
      "--f=c:\\Users\\1\\AppData\\Roaming\\jupyter\\runtime\\kernel-v2-8240g1Mg09wsMV16.json\n",
      "cannot parse config from cli, using default\\dev one\n",
      "config to run {'REMOTE_IP': '172.20.89.14', 'UNIQUE_ID': 'price_checker_test', 'force_reset_temp': False, 'password': None}\n"
     ]
    }
   ],
   "source": [
    "default_config = {\n",
    "  \"REMOTE_IP\": '172.20.89.14', # z2\n",
    "  \"UNIQUE_ID\": \"price_checker_test\",\n",
    "  \"force_reset_temp\": False,\n",
    "  \"password\": None,\n",
    "}\n",
    "\n",
    "\n",
    "\n",
    "try:\n",
    "  i = sys.argv[1]\n",
    "  print(i)\n",
    "  parsed_config = literal_eval(i)\n",
    "  print(f'successfully parsed cli config')\n",
    "  print(f'parsed_config: {parsed_config}')\n",
    "except:\n",
    "  print(f'cannot parse config from cli, using default\\dev one')\n",
    "  notebook_dev = True\n",
    "  parsed_config = default_config\n",
    "\n",
    "config = {\n",
    "\n",
    "}\n",
    "\n",
    "for key in default_config.keys():\n",
    "  try:\n",
    "    config[key] = parsed_config[key]\n",
    "  except:\n",
    "    config[key] = default_config[key]\n",
    "\n",
    "print(f'config to run {config}')"
   ]
  },
  {
   "cell_type": "code",
   "execution_count": 4,
   "metadata": {},
   "outputs": [
    {
     "name": "stdout",
     "output_type": "stream",
     "text": [
      "running mule_giver_test using: REMOTE_IP: 172.20.89.14 unique_id: price_checker_test force_reset_temp: False\n"
     ]
    }
   ],
   "source": [
    "REMOTE_IP = config['REMOTE_IP'] # REMOTE_IP\n",
    "UNIQUE_ID = \"price_checker_test\" # unique id\n",
    "force_reset_temp = config['force_reset_temp']\n",
    "mule_give_category = [\"deafing_essences\", \"gilded_scarabs\"]\n",
    "print(f'running mule_giver_test using: REMOTE_IP: {REMOTE_IP} unique_id: {UNIQUE_ID} force_reset_temp: {force_reset_temp}')"
   ]
  },
  {
   "cell_type": "code",
   "execution_count": 5,
   "metadata": {},
   "outputs": [
    {
     "name": "stdout",
     "output_type": "stream",
     "text": [
      "trying to load StashTempData uid: price_checker_test\n",
      "loaded StashTempData uid: price_checker_test\n",
      "trying to load AfkTempData uid: price_checker_test\n",
      "loaded AfkTempData uid: price_checker_test\n",
      "CombatModule.build is not assigned, using any functions may throw errors\n"
     ]
    }
   ],
   "source": [
    "poe_bot = PoeBot(unique_id=UNIQUE_ID, remote_ip = REMOTE_IP)\n",
    "bot_controls = poe_bot.bot_controls\n",
    "stash = poe_bot.ui.stash\n",
    "inventory = poe_bot.ui.inventory\n",
    "coordinator = poe_bot.coordinator\n",
    "\n"
   ]
  },
  {
   "cell_type": "code",
   "execution_count": 6,
   "metadata": {},
   "outputs": [
    {
     "name": "stdout",
     "output_type": "stream",
     "text": [
      "sent reboot script to worker\n",
      "#refreshAll call at 1713490514.788292\n"
     ]
    }
   ],
   "source": [
    "\n",
    "bot_controls.restartScript()\n",
    "poe_bot.refreshAll()"
   ]
  },
  {
   "cell_type": "code",
   "execution_count": 8,
   "metadata": {},
   "outputs": [
    {
     "ename": "KeyboardInterrupt",
     "evalue": "Interrupted by user",
     "output_type": "error",
     "traceback": [
      "\u001b[1;31m---------------------------------------------------------------------------\u001b[0m",
      "\u001b[1;31mKeyboardInterrupt\u001b[0m                         Traceback (most recent call last)",
      "Cell \u001b[1;32mIn[8], line 2\u001b[0m\n\u001b[0;32m      1\u001b[0m \u001b[38;5;28;01mwhile\u001b[39;00m \u001b[38;5;28;01mTrue\u001b[39;00m:\n\u001b[1;32m----> 2\u001b[0m   \u001b[38;5;28;43minput\u001b[39;49m\u001b[43m(\u001b[49m\u001b[38;5;124;43m'\u001b[39;49m\u001b[38;5;124;43mgonna pick essences from current stash tab, lowest amount to highest amount\u001b[39;49m\u001b[38;5;124;43m'\u001b[39;49m\u001b[43m)\u001b[49m\n\u001b[0;32m      3\u001b[0m   poe_bot\u001b[38;5;241m.\u001b[39mui\u001b[38;5;241m.\u001b[39mstash\u001b[38;5;241m.\u001b[39mupdate()\n\u001b[0;32m      4\u001b[0m   ess_keys \u001b[38;5;241m=\u001b[39m [\u001b[38;5;124m\"\u001b[39m\u001b[38;5;124mDeafening\u001b[39m\u001b[38;5;124m\"\u001b[39m, \u001b[38;5;124m\"\u001b[39m\u001b[38;5;124mShrieking\u001b[39m\u001b[38;5;124m\"\u001b[39m, \u001b[38;5;124m\"\u001b[39m\u001b[38;5;124mEssence of Horror\u001b[39m\u001b[38;5;124m\"\u001b[39m, \u001b[38;5;124m\"\u001b[39m\u001b[38;5;124mEssence of Delirium\u001b[39m\u001b[38;5;124m\"\u001b[39m, \u001b[38;5;124m\"\u001b[39m\u001b[38;5;124mEssence of Hysteria\u001b[39m\u001b[38;5;124m\"\u001b[39m,\u001b[38;5;124m\"\u001b[39m\u001b[38;5;124mEssence of Insanity\u001b[39m\u001b[38;5;124m\"\u001b[39m]\n",
      "File \u001b[1;32mc:\\Users\\1\\AppData\\Local\\Programs\\Python\\Python38\\lib\\site-packages\\ipykernel\\kernelbase.py:1182\u001b[0m, in \u001b[0;36mKernel.raw_input\u001b[1;34m(self, prompt)\u001b[0m\n\u001b[0;32m   1180\u001b[0m     msg \u001b[38;5;241m=\u001b[39m \u001b[38;5;124m\"\u001b[39m\u001b[38;5;124mraw_input was called, but this frontend does not support input requests.\u001b[39m\u001b[38;5;124m\"\u001b[39m\n\u001b[0;32m   1181\u001b[0m     \u001b[38;5;28;01mraise\u001b[39;00m StdinNotImplementedError(msg)\n\u001b[1;32m-> 1182\u001b[0m \u001b[38;5;28;01mreturn\u001b[39;00m \u001b[38;5;28;43mself\u001b[39;49m\u001b[38;5;241;43m.\u001b[39;49m\u001b[43m_input_request\u001b[49m\u001b[43m(\u001b[49m\n\u001b[0;32m   1183\u001b[0m \u001b[43m    \u001b[49m\u001b[38;5;28;43mstr\u001b[39;49m\u001b[43m(\u001b[49m\u001b[43mprompt\u001b[49m\u001b[43m)\u001b[49m\u001b[43m,\u001b[49m\n\u001b[0;32m   1184\u001b[0m \u001b[43m    \u001b[49m\u001b[38;5;28;43mself\u001b[39;49m\u001b[38;5;241;43m.\u001b[39;49m\u001b[43m_parent_ident\u001b[49m\u001b[43m[\u001b[49m\u001b[38;5;124;43m\"\u001b[39;49m\u001b[38;5;124;43mshell\u001b[39;49m\u001b[38;5;124;43m\"\u001b[39;49m\u001b[43m]\u001b[49m\u001b[43m,\u001b[49m\n\u001b[0;32m   1185\u001b[0m \u001b[43m    \u001b[49m\u001b[38;5;28;43mself\u001b[39;49m\u001b[38;5;241;43m.\u001b[39;49m\u001b[43mget_parent\u001b[49m\u001b[43m(\u001b[49m\u001b[38;5;124;43m\"\u001b[39;49m\u001b[38;5;124;43mshell\u001b[39;49m\u001b[38;5;124;43m\"\u001b[39;49m\u001b[43m)\u001b[49m\u001b[43m,\u001b[49m\n\u001b[0;32m   1186\u001b[0m \u001b[43m    \u001b[49m\u001b[43mpassword\u001b[49m\u001b[38;5;241;43m=\u001b[39;49m\u001b[38;5;28;43;01mFalse\u001b[39;49;00m\u001b[43m,\u001b[49m\n\u001b[0;32m   1187\u001b[0m \u001b[43m\u001b[49m\u001b[43m)\u001b[49m\n",
      "File \u001b[1;32mc:\\Users\\1\\AppData\\Local\\Programs\\Python\\Python38\\lib\\site-packages\\ipykernel\\kernelbase.py:1225\u001b[0m, in \u001b[0;36mKernel._input_request\u001b[1;34m(self, prompt, ident, parent, password)\u001b[0m\n\u001b[0;32m   1222\u001b[0m \u001b[38;5;28;01mexcept\u001b[39;00m \u001b[38;5;167;01mKeyboardInterrupt\u001b[39;00m:\n\u001b[0;32m   1223\u001b[0m     \u001b[38;5;66;03m# re-raise KeyboardInterrupt, to truncate traceback\u001b[39;00m\n\u001b[0;32m   1224\u001b[0m     msg \u001b[38;5;241m=\u001b[39m \u001b[38;5;124m\"\u001b[39m\u001b[38;5;124mInterrupted by user\u001b[39m\u001b[38;5;124m\"\u001b[39m\n\u001b[1;32m-> 1225\u001b[0m     \u001b[38;5;28;01mraise\u001b[39;00m \u001b[38;5;167;01mKeyboardInterrupt\u001b[39;00m(msg) \u001b[38;5;28;01mfrom\u001b[39;00m \u001b[38;5;28mNone\u001b[39m\n\u001b[0;32m   1226\u001b[0m \u001b[38;5;28;01mexcept\u001b[39;00m \u001b[38;5;167;01mException\u001b[39;00m:\n\u001b[0;32m   1227\u001b[0m     \u001b[38;5;28mself\u001b[39m\u001b[38;5;241m.\u001b[39mlog\u001b[38;5;241m.\u001b[39mwarning(\u001b[38;5;124m\"\u001b[39m\u001b[38;5;124mInvalid Message:\u001b[39m\u001b[38;5;124m\"\u001b[39m, exc_info\u001b[38;5;241m=\u001b[39m\u001b[38;5;28;01mTrue\u001b[39;00m)\n",
      "\u001b[1;31mKeyboardInterrupt\u001b[0m: Interrupted by user"
     ]
    }
   ],
   "source": [
    "while True:\n",
    "  input('gonna pick essences from current stash tab, lowest amount to highest amount')\n",
    "  poe_bot.ui.stash.update()\n",
    "  current_stash_items = poe_bot.ui.stash.current_tab_items\n",
    "  ess_keys = [\"Deafening\", \"Shrieking\", \"Essence of Horror\", \"Essence of Delirium\", \"Essence of Hysteria\",\"Essence of Insanity\"]\n",
    "  filtered_items = list(filter(lambda i: any(list(map(lambda k: k in i.name, ess_keys))), current_stash_items))\n",
    "  filtered_items = sorted(filtered_items, key=lambda i: i.items_in_stack)\n",
    "  stack_size = 9\n",
    "  items_to_pick = []\n",
    "  while True:\n",
    "    if len(filtered_items) == 0:\n",
    "      if len(items_to_pick) == 0:\n",
    "        raise Exception('dont have items in stash tab')\n",
    "      print(f'last trade')\n",
    "      break\n",
    "    item_count = int(filtered_items[0].items_in_stack / stack_size) + int(filtered_items[0].items_in_stack % stack_size != 0)  \n",
    "    for i in range(item_count):\n",
    "      items_to_pick.append(filtered_items[0])\n",
    "    filtered_items.pop(0)\n",
    "    if len(items_to_pick) >= 60:\n",
    "      break\n",
    "\n",
    "  items_to_pick = items_to_pick[:60]\n",
    "  time.sleep(random.randint(3,7)/100)\n",
    "  bot_controls.keyboard_pressKey('DIK_LCONTROL')\n",
    "\n",
    "  for item in items_to_pick:\n",
    "    item.click()\n",
    "  bot_controls.keyboard_releaseKey('DIK_LCONTROL')\n",
    "\n",
    "  input('going to ctrl click essences to put them in trade')\n",
    "  poe_bot.ui.inventory.update()\n",
    "  items_in_inventory = poe_bot.ui.inventory.items\n",
    "  single_stack_items_in_inventory = []\n",
    "  multiple_stack_item_names_in_inventory = []\n",
    "\n",
    "  \n",
    "  shift_pressed = False\n",
    "  time.sleep(random.randint(3,7)/100)\n",
    "  bot_controls.keyboard_pressKey('DIK_LCONTROL')\n",
    "\n",
    "  for item in items_in_inventory:\n",
    "    item_name = item.name\n",
    "    if item_name in multiple_stack_item_names_in_inventory:\n",
    "      continue\n",
    "    item_stack_count = len(list(filter(lambda i: i.name == item_name, items_in_inventory)))\n",
    "    if item_stack_count > 1:\n",
    "      if not shift_pressed:\n",
    "        time.sleep(random.randint(3,7)/100)\n",
    "        poe_bot.bot_controls.keyboard_pressKey('DIK_LSHIFT')\n",
    "        shift_pressed = True\n",
    "      item.click()\n",
    "      multiple_stack_item_names_in_inventory.append(item.name)\n",
    "    else:\n",
    "      single_stack_items_in_inventory.append(item)\n",
    "  if shift_pressed:\n",
    "    poe_bot.bot_controls.keyboard_releaseKey('DIK_LSHIFT')\n",
    "\n",
    "  for item in single_stack_items_in_inventory:\n",
    "    item.click()\n",
    "    if random.randint(1,10) == 1:\n",
    "      time.sleep(random.randint(3,7)/10)\n",
    "\n",
    "  bot_controls.keyboard_releaseKey('DIK_LCONTROL')\n",
    "\n",
    "  input('going to stash items, divines in current tab, others just ctrl click')\n",
    "  poe_bot.refreshInstanceData()\n",
    "  poe_bot.ui.stash.open()\n",
    "  time.sleep(random.randint(20,30)/100)\n",
    "  poe_bot.ui.inventory.update()\n",
    "  items_in_inventory = poe_bot.ui.inventory.items\n",
    "  divines = list(filter(lambda i: i.name == \"Divine Orb\", items_in_inventory))\n",
    "  if divines:\n",
    "    poe_bot.bot_controls.keyboard_pressKey('DIK_LSHIFT')\n",
    "    time.sleep(random.randint(7,13)/100)\n",
    "    poe_bot.ui.clickMultipleItems(divines, add_delay_before_last_clicks=False)\n",
    "    time.sleep(random.randint(7,13)/100)\n",
    "    poe_bot.bot_controls.keyboard_releaseKey(\"DIK_LSHIFT\")\n",
    "  poe_bot.ui.inventory.update()\n",
    "  items_in_inventory = poe_bot.ui.inventory.items\n",
    "  poe_bot.ui.clickMultipleItems(items_in_inventory, add_delay_before_last_clicks=False)\n",
    "\n"
   ]
  }
 ],
 "metadata": {
  "kernelspec": {
   "display_name": "Python 3",
   "language": "python",
   "name": "python3"
  },
  "language_info": {
   "codemirror_mode": {
    "name": "ipython",
    "version": 3
   },
   "file_extension": ".py",
   "mimetype": "text/x-python",
   "name": "python",
   "nbconvert_exporter": "python",
   "pygments_lexer": "ipython3",
   "version": "3.8.10"
  },
  "orig_nbformat": 4,
  "vscode": {
   "interpreter": {
    "hash": "9a77788ff6b86baaa40baa2ee0d4965d2ef3f4c5f9e8f753fc08e7b362f3103b"
   }
  }
 },
 "nbformat": 4,
 "nbformat_minor": 2
}
